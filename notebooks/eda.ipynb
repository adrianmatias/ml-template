{
 "cells": [
  {
   "cell_type": "code",
   "execution_count": 1,
   "id": "63d49c23-7309-4d44-8a76-443a41044738",
   "metadata": {},
   "outputs": [],
   "source": [
    "%matplotlib inline\n",
    "%load_ext autoreload\n",
    "%autoreload 2"
   ]
  },
  {
   "cell_type": "code",
   "execution_count": 2,
   "id": "4db14c46-7b03-440b-bd9b-25c6f0c46384",
   "metadata": {},
   "outputs": [],
   "source": [
    "import pandas as pd\n",
    "import os\n",
    "from sklearn.datasets import load_svmlight_file\n",
    "import seaborn as sns\n",
    "import matplotlib.pyplot as plt\n",
    "from matplotlib_venn import venn2\n",
    "\n",
    "sns.set_theme(style=\"darkgrid\")\n",
    "\n",
    "\n",
    "import sys\n",
    "\n",
    "module_path = os.path.abspath(os.path.join('..'))\n",
    "if module_path not in sys.path:\n",
    "    sys.path.append(module_path)\n",
    "\n",
    "from conf import Conf"
   ]
  },
  {
   "cell_type": "code",
   "execution_count": 3,
   "id": "1c585dd4-8817-46d2-b2e5-00e128d2ef4b",
   "metadata": {},
   "outputs": [
    {
     "data": {
      "text/plain": [
       "{'env': 'main',\n",
       " 'root_dir': '/home/mat/PycharmProjects/active-learning-rank',\n",
       " 'filename': '/home/mat/PycharmProjects/active-learning-rank/conf/config_main.yaml',\n",
       " 'path_data_raw': '/home/mat/PycharmProjects/active-learning-rank/data/raw'}"
      ]
     },
     "execution_count": 3,
     "metadata": {},
     "output_type": "execute_result"
    }
   ],
   "source": [
    "CONF = Conf(env=\"main\")\n",
    "\n",
    "CONF.__dict__"
   ]
  },
  {
   "cell_type": "code",
   "execution_count": 4,
   "id": "47a317d7-2a0c-44e3-944a-bc6e8f9f02fd",
   "metadata": {},
   "outputs": [],
   "source": [
    "def read_data(filename: str):\n",
    "    path_filename = os.path.join(CONF.path_data_raw, filename)\n",
    "\n",
    "    data, labels, qids = load_svmlight_file(path_filename, query_id=True, n_features=136)\n",
    "    return data, labels, qids"
   ]
  },
  {
   "cell_type": "code",
   "execution_count": null,
   "id": "0aee40dd-2f1e-41c0-8b8d-63e51b596376",
   "metadata": {},
   "outputs": [],
   "source": [
    "data_train, labels_train, qids_train = read_data(filename=\"train.txt\")"
   ]
  },
  {
   "cell_type": "code",
   "execution_count": null,
   "id": "534a90e7-f280-4629-b731-d2b643c81ab0",
   "metadata": {},
   "outputs": [],
   "source": [
    "data_valid, labels_valid, qids_valid = read_data(filename=\"vali.txt\")"
   ]
  },
  {
   "cell_type": "code",
   "execution_count": null,
   "id": "1d7108a8-efe6-4fcd-8b28-24c2dfa05c7d",
   "metadata": {},
   "outputs": [],
   "source": [
    "def describe(data, labels, qids):\n",
    "    print(data.shape)\n",
    "    pd.Series(labels).value_counts().plot(kind=\"bar\", title=\"label_count\")\n",
    "    sns.displot(pd.Series(qids, name=\"qid_n_result\").value_counts())\n",
    "    # plt.plot()"
   ]
  },
  {
   "cell_type": "code",
   "execution_count": null,
   "id": "df01a8c7-bb12-4b39-acb0-dfd8c59e67a8",
   "metadata": {},
   "outputs": [],
   "source": [
    "describe(data_train, labels_train, qids_train)"
   ]
  },
  {
   "cell_type": "code",
   "execution_count": null,
   "id": "e1a903b2-3e2c-45fd-be38-c51bd1efd50d",
   "metadata": {},
   "outputs": [],
   "source": [
    "describe(data_valid, labels_valid, qids_valid)"
   ]
  },
  {
   "cell_type": "code",
   "execution_count": null,
   "id": "f2fa8652-410c-4b82-af1c-c3a0e2163077",
   "metadata": {},
   "outputs": [],
   "source": [
    "def display_qid_venn():\n",
    "    venn2([set(qids_train), set(qids_valid)], ('train', 'valid'))\n",
    "    plt.title(\"venn_diagram: qid\")\n",
    "\n",
    "display_qid_venn()"
   ]
  }
 ],
 "metadata": {
  "kernelspec": {
   "display_name": "Python 3 (ipykernel)",
   "language": "python",
   "name": "python3"
  },
  "language_info": {
   "codemirror_mode": {
    "name": "ipython",
    "version": 3
   },
   "file_extension": ".py",
   "mimetype": "text/x-python",
   "name": "python",
   "nbconvert_exporter": "python",
   "pygments_lexer": "ipython3",
   "version": "3.8.13"
  }
 },
 "nbformat": 4,
 "nbformat_minor": 5
}
